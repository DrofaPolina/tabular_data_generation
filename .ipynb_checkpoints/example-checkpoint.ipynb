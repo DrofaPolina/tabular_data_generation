{
 "cells": [
  {
   "cell_type": "code",
   "execution_count": null,
   "id": "3980d346-47ca-4962-a19b-deda9463a7ba",
   "metadata": {},
   "outputs": [],
   "source": []
  },
  {
   "cell_type": "code",
   "execution_count": null,
   "id": "8e52125a-9854-4a54-a37f-5e437eb43f02",
   "metadata": {},
   "outputs": [],
   "source": [
    "#  /tabular_data_generation_0/small_dataset.py"
   ]
  },
  {
   "cell_type": "code",
   "execution_count": null,
   "id": "ecc1197e-ba68-441d-82dd-61237148460a",
   "metadata": {},
   "outputs": [],
   "source": [
    "Generator = Generator(model_type = 'ctgan',  out_dir = './datasets', in_dir = 'small_dataset.csv', datecolumn = 'issue_d')\n",
    "Generator.generate_rounds(n_rounds=10, rate=1)"
   ]
  }
 ],
 "metadata": {
  "kernelspec": {
   "display_name": "Python 3",
   "language": "python",
   "name": "python3"
  },
  "language_info": {
   "codemirror_mode": {
    "name": "ipython",
    "version": 3
   },
   "file_extension": ".py",
   "mimetype": "text/x-python",
   "name": "python",
   "nbconvert_exporter": "python",
   "pygments_lexer": "ipython3",
   "version": "3.8.8"
  }
 },
 "nbformat": 4,
 "nbformat_minor": 5
}
