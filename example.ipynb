{
 "cells": [
  {
   "cell_type": "markdown",
   "id": "77b563bd-650b-4eef-93e5-5980cb07c25b",
   "metadata": {},
   "source": [
    "-----"
   ]
  },
  {
   "cell_type": "markdown",
   "id": "718dd4bd-0f6d-419c-8e39-906d221480c3",
   "metadata": {},
   "source": [
    "### Install libraries"
   ]
  },
  {
   "cell_type": "code",
   "execution_count": 2,
   "id": "005c20ac-5402-4061-881d-243fb6cd3502",
   "metadata": {},
   "outputs": [
    {
     "name": "stdout",
     "output_type": "stream",
     "text": [
      "Requirement already satisfied: ctgan in /Applications/anaconda3/lib/python3.8/site-packages (0.5.2)\n",
      "Requirement already satisfied: numpy<2,>=1.20.0 in /Applications/anaconda3/lib/python3.8/site-packages (from ctgan) (1.22.4)\n",
      "Requirement already satisfied: torchvision<1,>=0.9.0 in /Applications/anaconda3/lib/python3.8/site-packages (from ctgan) (0.13.1)\n",
      "Requirement already satisfied: rdt<2.0,>=1.2.0 in /Applications/anaconda3/lib/python3.8/site-packages (from ctgan) (1.2.1)\n",
      "Requirement already satisfied: pandas<2,>=1.1.3 in /Applications/anaconda3/lib/python3.8/site-packages (from ctgan) (1.5.3)\n",
      "Requirement already satisfied: scikit-learn<2,>=0.24 in /Applications/anaconda3/lib/python3.8/site-packages (from ctgan) (1.1.3)\n",
      "Requirement already satisfied: torch<2,>=1.8.0 in /Applications/anaconda3/lib/python3.8/site-packages (from ctgan) (1.12.1)\n",
      "Requirement already satisfied: packaging<22,>=20 in /Applications/anaconda3/lib/python3.8/site-packages (from ctgan) (20.9)\n",
      "Requirement already satisfied: pyparsing>=2.0.2 in /Applications/anaconda3/lib/python3.8/site-packages (from packaging<22,>=20->ctgan) (2.4.7)\n",
      "Requirement already satisfied: pytz>=2020.1 in /Applications/anaconda3/lib/python3.8/site-packages (from pandas<2,>=1.1.3->ctgan) (2021.1)\n",
      "Requirement already satisfied: python-dateutil>=2.8.1 in /Applications/anaconda3/lib/python3.8/site-packages (from pandas<2,>=1.1.3->ctgan) (2.8.1)\n",
      "Requirement already satisfied: psutil<6,>=5.7 in /Applications/anaconda3/lib/python3.8/site-packages (from rdt<2.0,>=1.2.0->ctgan) (5.8.0)\n",
      "Requirement already satisfied: Faker>=10 in /Applications/anaconda3/lib/python3.8/site-packages (from rdt<2.0,>=1.2.0->ctgan) (14.2.1)\n",
      "Requirement already satisfied: pyyaml<6,>=5.4.1 in /Applications/anaconda3/lib/python3.8/site-packages (from rdt<2.0,>=1.2.0->ctgan) (5.4.1)\n",
      "Requirement already satisfied: scipy<1.8,>=1.5.4 in /Applications/anaconda3/lib/python3.8/site-packages (from rdt<2.0,>=1.2.0->ctgan) (1.7.3)\n",
      "Requirement already satisfied: threadpoolctl>=2.0.0 in /Applications/anaconda3/lib/python3.8/site-packages (from scikit-learn<2,>=0.24->ctgan) (2.1.0)\n",
      "Requirement already satisfied: joblib>=1.0.0 in /Applications/anaconda3/lib/python3.8/site-packages (from scikit-learn<2,>=0.24->ctgan) (1.0.1)\n",
      "Requirement already satisfied: typing-extensions in /Applications/anaconda3/lib/python3.8/site-packages (from torch<2,>=1.8.0->ctgan) (4.0.1)\n",
      "Requirement already satisfied: requests in /Applications/anaconda3/lib/python3.8/site-packages (from torchvision<1,>=0.9.0->ctgan) (2.25.1)\n",
      "Requirement already satisfied: pillow!=8.3.*,>=5.3.0 in /Applications/anaconda3/lib/python3.8/site-packages (from torchvision<1,>=0.9.0->ctgan) (8.2.0)\n",
      "Requirement already satisfied: six>=1.5 in /Applications/anaconda3/lib/python3.8/site-packages (from python-dateutil>=2.8.1->pandas<2,>=1.1.3->ctgan) (1.15.0)\n",
      "Requirement already satisfied: idna<3,>=2.5 in /Applications/anaconda3/lib/python3.8/site-packages (from requests->torchvision<1,>=0.9.0->ctgan) (2.10)\n",
      "Requirement already satisfied: certifi>=2017.4.17 in /Applications/anaconda3/lib/python3.8/site-packages (from requests->torchvision<1,>=0.9.0->ctgan) (2020.12.5)\n",
      "Requirement already satisfied: chardet<5,>=3.0.2 in /Applications/anaconda3/lib/python3.8/site-packages (from requests->torchvision<1,>=0.9.0->ctgan) (4.0.0)\n",
      "Requirement already satisfied: urllib3<1.27,>=1.21.1 in /Applications/anaconda3/lib/python3.8/site-packages (from requests->torchvision<1,>=0.9.0->ctgan) (1.26.4)\n",
      "\u001b[33mWARNING: You are using pip version 21.3.1; however, version 23.0.1 is available.\n",
      "You should consider upgrading via the '/Applications/anaconda3/bin/python3 -m pip install --upgrade pip' command.\u001b[0m\n",
      "Looking in indexes: https://test.pypi.org/simple/\n",
      "Collecting tabular-data-generation-0==0.1.0\n",
      "  Using cached https://test-files.pythonhosted.org/packages/f4/2b/3156e826783ec995f47b41ef879bc08f855a240d75424cd599b541e64186/tabular_data_generation_0-0.1.0-py3-none-any.whl (3.8 kB)\n",
      "\u001b[31mERROR: Could not find a version that satisfies the requirement ctgan<0.8,>=0.7.1 (from tabular-data-generation-0) (from versions: 0.2.2.dev2)\u001b[0m\n",
      "\u001b[31mERROR: No matching distribution found for ctgan<0.8,>=0.7.1\u001b[0m\n",
      "\u001b[33mWARNING: You are using pip version 21.3.1; however, version 23.0.1 is available.\n",
      "You should consider upgrading via the '/Applications/anaconda3/bin/python3 -m pip install --upgrade pip' command.\u001b[0m\n"
     ]
    }
   ],
   "source": [
    "! pip install ctgan\n",
    "\n",
    "! pip install -i https://test.pypi.org/simple/ tabular-data-generation-0==0.1.0"
   ]
  },
  {
   "cell_type": "code",
   "execution_count": 5,
   "id": "bd13d998-9489-488a-983e-8c887b20c4aa",
   "metadata": {},
   "outputs": [
    {
     "name": "stdout",
     "output_type": "stream",
     "text": [
      "Requirement already satisfied: ctgan in /Applications/anaconda3/lib/python3.8/site-packages (0.5.2)\n",
      "Requirement already satisfied: pandas<2,>=1.1.3 in /Applications/anaconda3/lib/python3.8/site-packages (from ctgan) (1.5.3)\n",
      "Requirement already satisfied: scikit-learn<2,>=0.24 in /Applications/anaconda3/lib/python3.8/site-packages (from ctgan) (1.1.3)\n",
      "Requirement already satisfied: numpy<2,>=1.20.0 in /Applications/anaconda3/lib/python3.8/site-packages (from ctgan) (1.22.4)\n",
      "Requirement already satisfied: torch<2,>=1.8.0 in /Applications/anaconda3/lib/python3.8/site-packages (from ctgan) (1.12.1)\n",
      "Requirement already satisfied: packaging<22,>=20 in /Applications/anaconda3/lib/python3.8/site-packages (from ctgan) (20.9)\n",
      "Requirement already satisfied: rdt<2.0,>=1.2.0 in /Applications/anaconda3/lib/python3.8/site-packages (from ctgan) (1.2.1)\n",
      "Requirement already satisfied: torchvision<1,>=0.9.0 in /Applications/anaconda3/lib/python3.8/site-packages (from ctgan) (0.13.1)\n",
      "Requirement already satisfied: pyparsing>=2.0.2 in /Applications/anaconda3/lib/python3.8/site-packages (from packaging<22,>=20->ctgan) (2.4.7)\n",
      "Requirement already satisfied: pytz>=2020.1 in /Applications/anaconda3/lib/python3.8/site-packages (from pandas<2,>=1.1.3->ctgan) (2021.1)\n",
      "Requirement already satisfied: python-dateutil>=2.8.1 in /Applications/anaconda3/lib/python3.8/site-packages (from pandas<2,>=1.1.3->ctgan) (2.8.1)\n",
      "Requirement already satisfied: psutil<6,>=5.7 in /Applications/anaconda3/lib/python3.8/site-packages (from rdt<2.0,>=1.2.0->ctgan) (5.8.0)\n",
      "Requirement already satisfied: pyyaml<6,>=5.4.1 in /Applications/anaconda3/lib/python3.8/site-packages (from rdt<2.0,>=1.2.0->ctgan) (5.4.1)\n",
      "Requirement already satisfied: scipy<1.8,>=1.5.4 in /Applications/anaconda3/lib/python3.8/site-packages (from rdt<2.0,>=1.2.0->ctgan) (1.7.3)\n",
      "Requirement already satisfied: Faker>=10 in /Applications/anaconda3/lib/python3.8/site-packages (from rdt<2.0,>=1.2.0->ctgan) (14.2.1)\n",
      "Requirement already satisfied: threadpoolctl>=2.0.0 in /Applications/anaconda3/lib/python3.8/site-packages (from scikit-learn<2,>=0.24->ctgan) (2.1.0)\n",
      "Requirement already satisfied: joblib>=1.0.0 in /Applications/anaconda3/lib/python3.8/site-packages (from scikit-learn<2,>=0.24->ctgan) (1.0.1)\n",
      "Requirement already satisfied: typing-extensions in /Applications/anaconda3/lib/python3.8/site-packages (from torch<2,>=1.8.0->ctgan) (4.0.1)\n",
      "Requirement already satisfied: requests in /Applications/anaconda3/lib/python3.8/site-packages (from torchvision<1,>=0.9.0->ctgan) (2.25.1)\n",
      "Requirement already satisfied: pillow!=8.3.*,>=5.3.0 in /Applications/anaconda3/lib/python3.8/site-packages (from torchvision<1,>=0.9.0->ctgan) (8.2.0)\n",
      "Requirement already satisfied: six>=1.5 in /Applications/anaconda3/lib/python3.8/site-packages (from python-dateutil>=2.8.1->pandas<2,>=1.1.3->ctgan) (1.15.0)\n",
      "Requirement already satisfied: certifi>=2017.4.17 in /Applications/anaconda3/lib/python3.8/site-packages (from requests->torchvision<1,>=0.9.0->ctgan) (2020.12.5)\n",
      "Requirement already satisfied: urllib3<1.27,>=1.21.1 in /Applications/anaconda3/lib/python3.8/site-packages (from requests->torchvision<1,>=0.9.0->ctgan) (1.26.4)\n",
      "Requirement already satisfied: idna<3,>=2.5 in /Applications/anaconda3/lib/python3.8/site-packages (from requests->torchvision<1,>=0.9.0->ctgan) (2.10)\n",
      "Requirement already satisfied: chardet<5,>=3.0.2 in /Applications/anaconda3/lib/python3.8/site-packages (from requests->torchvision<1,>=0.9.0->ctgan) (4.0.0)\n",
      "\u001b[33mWARNING: You are using pip version 21.3.1; however, version 23.0.1 is available.\n",
      "You should consider upgrading via the '/Applications/anaconda3/bin/python3 -m pip install --upgrade pip' command.\u001b[0m\n"
     ]
    }
   ],
   "source": [
    "! pip install ctgan"
   ]
  },
  {
   "cell_type": "code",
   "execution_count": 6,
   "id": "bdd6a951-aaef-4dc5-92a5-42a0068f2a51",
   "metadata": {},
   "outputs": [
    {
     "ename": "ImportError",
     "evalue": "cannot import name 'CTGAN' from 'ctgan' (/Applications/anaconda3/lib/python3.8/site-packages/ctgan/__init__.py)",
     "output_type": "error",
     "traceback": [
      "\u001b[0;31m---------------------------------------------------------------------------\u001b[0m",
      "\u001b[0;31mImportError\u001b[0m                               Traceback (most recent call last)",
      "\u001b[0;32m<ipython-input-6-070bb180ad02>\u001b[0m in \u001b[0;36m<module>\u001b[0;34m\u001b[0m\n\u001b[0;32m----> 1\u001b[0;31m \u001b[0;32mfrom\u001b[0m \u001b[0mctgan\u001b[0m \u001b[0;32mimport\u001b[0m \u001b[0mCTGAN\u001b[0m\u001b[0;34m\u001b[0m\u001b[0;34m\u001b[0m\u001b[0m\n\u001b[0m",
      "\u001b[0;31mImportError\u001b[0m: cannot import name 'CTGAN' from 'ctgan' (/Applications/anaconda3/lib/python3.8/site-packages/ctgan/__init__.py)"
     ]
    }
   ],
   "source": [
    "from ctgan import CTGAN"
   ]
  },
  {
   "cell_type": "markdown",
   "id": "b78f7e9b-8c87-43f5-83cf-e7e3804c1984",
   "metadata": {},
   "source": [
    "### Generate data for 10 rounds extending dataset from /small_dataset.csv"
   ]
  },
  {
   "cell_type": "code",
   "execution_count": 4,
   "id": "ecc1197e-ba68-441d-82dd-61237148460a",
   "metadata": {},
   "outputs": [
    {
     "ename": "ImportError",
     "evalue": "cannot import name 'CTGAN' from 'ctgan' (/Applications/anaconda3/lib/python3.8/site-packages/ctgan/__init__.py)",
     "output_type": "error",
     "traceback": [
      "\u001b[0;31m---------------------------------------------------------------------------\u001b[0m",
      "\u001b[0;31mImportError\u001b[0m                               Traceback (most recent call last)",
      "\u001b[0;32m<ipython-input-4-5078666a21be>\u001b[0m in \u001b[0;36m<module>\u001b[0;34m\u001b[0m\n\u001b[0;32m----> 1\u001b[0;31m \u001b[0;32mfrom\u001b[0m \u001b[0mtabular_data_generation_0\u001b[0m \u001b[0;32mimport\u001b[0m \u001b[0mGenerator\u001b[0m\u001b[0;34m\u001b[0m\u001b[0;34m\u001b[0m\u001b[0m\n\u001b[0m\u001b[1;32m      2\u001b[0m \u001b[0;34m\u001b[0m\u001b[0m\n\u001b[1;32m      3\u001b[0m \u001b[0mGenerator\u001b[0m \u001b[0;34m=\u001b[0m \u001b[0mGenerator\u001b[0m\u001b[0;34m(\u001b[0m\u001b[0mmodel_type\u001b[0m \u001b[0;34m=\u001b[0m \u001b[0;34m'ctgan'\u001b[0m\u001b[0;34m,\u001b[0m  \u001b[0mout_dir\u001b[0m \u001b[0;34m=\u001b[0m \u001b[0;34m'./datasets'\u001b[0m\u001b[0;34m,\u001b[0m \u001b[0min_dir\u001b[0m \u001b[0;34m=\u001b[0m \u001b[0;34m' /tabular_data_generation_0/small_dataset.csv'\u001b[0m\u001b[0;34m,\u001b[0m \u001b[0mdatecolumn\u001b[0m \u001b[0;34m=\u001b[0m \u001b[0;34m'issue_d'\u001b[0m\u001b[0;34m)\u001b[0m\u001b[0;34m\u001b[0m\u001b[0;34m\u001b[0m\u001b[0m\n\u001b[1;32m      4\u001b[0m \u001b[0mGenerator\u001b[0m\u001b[0;34m.\u001b[0m\u001b[0mgenerate_rounds\u001b[0m\u001b[0;34m(\u001b[0m\u001b[0mn_rounds\u001b[0m\u001b[0;34m=\u001b[0m\u001b[0;36m10\u001b[0m\u001b[0;34m,\u001b[0m \u001b[0mrate\u001b[0m\u001b[0;34m=\u001b[0m\u001b[0;36m1\u001b[0m\u001b[0;34m)\u001b[0m\u001b[0;34m\u001b[0m\u001b[0;34m\u001b[0m\u001b[0m\n",
      "\u001b[0;32m~/Downloads/tabular_generation_BB-0.1.0/tabular_data_generation_0/__init__.py\u001b[0m in \u001b[0;36m<module>\u001b[0;34m\u001b[0m\n\u001b[0;32m----> 1\u001b[0;31m \u001b[0;32mfrom\u001b[0m \u001b[0mtabular_data_generation_0\u001b[0m\u001b[0;34m.\u001b[0m\u001b[0mgenerator\u001b[0m \u001b[0;32mimport\u001b[0m \u001b[0mGenerator\u001b[0m\u001b[0;34m\u001b[0m\u001b[0;34m\u001b[0m\u001b[0m\n\u001b[0m",
      "\u001b[0;32m~/Downloads/tabular_generation_BB-0.1.0/tabular_data_generation_0/generator.py\u001b[0m in \u001b[0;36m<module>\u001b[0;34m\u001b[0m\n\u001b[1;32m      1\u001b[0m \u001b[0;32mimport\u001b[0m \u001b[0mpandas\u001b[0m \u001b[0;32mas\u001b[0m \u001b[0mpd\u001b[0m\u001b[0;34m\u001b[0m\u001b[0;34m\u001b[0m\u001b[0m\n\u001b[1;32m      2\u001b[0m \u001b[0;32mimport\u001b[0m \u001b[0mos\u001b[0m\u001b[0;34m\u001b[0m\u001b[0;34m\u001b[0m\u001b[0m\n\u001b[0;32m----> 3\u001b[0;31m \u001b[0;32mfrom\u001b[0m \u001b[0mctgan\u001b[0m \u001b[0;32mimport\u001b[0m \u001b[0mCTGAN\u001b[0m\u001b[0;34m\u001b[0m\u001b[0;34m\u001b[0m\u001b[0m\n\u001b[0m\u001b[1;32m      4\u001b[0m \u001b[0;34m\u001b[0m\u001b[0m\n\u001b[1;32m      5\u001b[0m \u001b[0;32mclass\u001b[0m \u001b[0mGenerator\u001b[0m\u001b[0;34m:\u001b[0m\u001b[0;34m\u001b[0m\u001b[0;34m\u001b[0m\u001b[0m\n",
      "\u001b[0;31mImportError\u001b[0m: cannot import name 'CTGAN' from 'ctgan' (/Applications/anaconda3/lib/python3.8/site-packages/ctgan/__init__.py)"
     ]
    }
   ],
   "source": [
    "from tabular_data_generation_0 import Generator\n",
    "\n",
    "Generator = Generator(model_type = 'ctgan',  out_dir = './datasets', in_dir = ' /tabular_data_generation_0/small_dataset.csv', datecolumn = 'issue_d')\n",
    "Generator.generate_rounds(n_rounds=10, rate=1)"
   ]
  },
  {
   "cell_type": "markdown",
   "id": "a8e5677e-7a36-4057-92c2-48e2a0209efc",
   "metadata": {},
   "source": [
    "### Quality"
   ]
  },
  {
   "cell_type": "code",
   "execution_count": null,
   "id": "ac2af2d1-5733-4e93-842d-cd88bfd779c8",
   "metadata": {},
   "outputs": [],
   "source": []
  }
 ],
 "metadata": {
  "kernelspec": {
   "display_name": "Python 3",
   "language": "python",
   "name": "python3"
  },
  "language_info": {
   "codemirror_mode": {
    "name": "ipython",
    "version": 3
   },
   "file_extension": ".py",
   "mimetype": "text/x-python",
   "name": "python",
   "nbconvert_exporter": "python",
   "pygments_lexer": "ipython3",
   "version": "3.8.8"
  }
 },
 "nbformat": 4,
 "nbformat_minor": 5
}
